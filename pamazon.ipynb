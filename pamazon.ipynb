{
 "cells": [
  {
   "cell_type": "code",
   "execution_count": 2,
   "id": "64f3ada7",
   "metadata": {},
   "outputs": [],
   "source": [
    "#!pip install --upgrade pandas\n",
    "import pandas as pd\n",
    "import numpy as np"
   ]
  },
  {
   "cell_type": "code",
   "execution_count": null,
   "id": "45117f7b",
   "metadata": {},
   "outputs": [],
   "source": [
    "df=pd.read_csv('1aammazon.csv' ,   )\n",
    "\n",
    "df.dropna()\n",
    "\n",
    "\n",
    "df.columns= df.columns.str.lower().str.strip().str.replace(' ','_').str.replace('-','_')\n",
    "\n",
    "df.date=pd.to_datetime(df.date)\n",
    "df.head(2)"
   ]
  },
  {
   "cell_type": "code",
   "execution_count": null,
   "id": "88896fda",
   "metadata": {},
   "outputs": [],
   "source": [
    "df.groupby('ship_state').order_id.count().reset_index(name='no of oerder')\\\n",
    ".sort_values(by='no of oerder',ascending=False).head(10)"
   ]
  },
  {
   "cell_type": "code",
   "execution_count": null,
   "id": "7e6ba17a",
   "metadata": {},
   "outputs": [],
   "source": [
    "df.groupby('category').agg(max_amount=('amount','max'),\\\n",
    "min_amount=('amount','min'),sum_amount=('amount','sum'),order_no=('order_id','count'))"
   ]
  },
  {
   "cell_type": "code",
   "execution_count": null,
   "id": "5425c583",
   "metadata": {},
   "outputs": [],
   "source": [
    "df.groupby([df.date.dt.month_name(),'ship_state'])\\\n",
    ".apply(lambda x: x.nlargest(2,columns=['amount']))\\\n",
    "[['date','order_id','ship_city','amount']].rename(columns={'date':'datee'},level=0)\\\n",
    ".reset_index(level=2,drop=True).reset_index()"
   ]
  },
  {
   "cell_type": "code",
   "execution_count": null,
   "id": "5b967d6d",
   "metadata": {},
   "outputs": [],
   "source": [
    "df.groupby([df.date.dt.to_period('M'),'category']).apply(lambda x: x.amount.sum())\\\n",
    ".reset_index(name='amount').groupby('date').apply(lambda x: x.nlargest(3,'amount')).reset_index(drop=True)"
   ]
  },
  {
   "cell_type": "code",
   "execution_count": null,
   "id": "c10bc949",
   "metadata": {},
   "outputs": [],
   "source": [
    "df.groupby('ship_state').order_id.count().reset_index().sort_values('order_id',ascending=False)\n"
   ]
  },
  {
   "cell_type": "raw",
   "id": "6d058059",
   "metadata": {},
   "source": [
    "#MAHARASHTRA\n",
    "\n",
    "\n",
    "df[(df.ship_state.isin(['MAHARASHTRA','DELHI','ANDHRA PRADESH']))&(df.date.dt.month.isin([4,5]))].groupby([df.date.dt.strftime('%Y-%B'),'ship_state']).order_id.count()\\\n",
    ".reset_index(name='order_in_maharash').pivot_table(index=['ship_state'],values=['order_in_maharash'],columns=['date']).reset_index().rename_axis(None,1)\n",
    "#.assign(growth=lambda x: ((x['2022-May']-x['2022-April'])/x['2022-April']*100).round(2).astype(str)+'%')\n",
    "\n"
   ]
  },
  {
   "cell_type": "code",
   "execution_count": null,
   "id": "fa623472",
   "metadata": {},
   "outputs": [],
   "source": [
    "\n",
    "df.\n"
   ]
  },
  {
   "cell_type": "code",
   "execution_count": null,
   "id": "c1c7db9b",
   "metadata": {},
   "outputs": [],
   "source": []
  }
 ],
 "metadata": {
  "kernelspec": {
   "display_name": "Python 3 (ipykernel)",
   "language": "python",
   "name": "python3"
  },
  "language_info": {
   "codemirror_mode": {
    "name": "ipython",
    "version": 3
   },
   "file_extension": ".py",
   "mimetype": "text/x-python",
   "name": "python",
   "nbconvert_exporter": "python",
   "pygments_lexer": "ipython3",
   "version": "3.11.2"
  }
 },
 "nbformat": 4,
 "nbformat_minor": 5
}
